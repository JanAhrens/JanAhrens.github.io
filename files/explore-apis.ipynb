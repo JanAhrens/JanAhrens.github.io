{
 "nbformat": 4,
 "nbformat_minor": 2,
 "metadata": {
  "language_info": {
   "name": "python",
   "codemirror_mode": {
    "name": "ipython",
    "version": 3
   },
   "version": "3.7.4-final"
  },
  "orig_nbformat": 2,
  "file_extension": ".py",
  "mimetype": "text/x-python",
  "name": "python",
  "npconvert_exporter": "python",
  "pygments_lexer": "ipython3",
  "version": 3,
  "kernelspec": {
   "name": "python37464bitca1a4ad230f44382bb41d8250c5884c7",
   "display_name": "Python 3.7.4 64-bit"
  }
 },
 "cells": [
  {
   "cell_type": "markdown",
   "metadata": {},
   "source": [
    "## Exploring APIs and data structures with Jupyter notebooks\n",
    "\n",
    "A colleague recently showed me a very useful technique for exploring Web APIs: Jupyter notebooks.\n",
    "\n",
    "Using Jupyter for your experiments with a new API has a quite a few benefits:\n",
    "\n",
    "* Jupyter is a Python [REPL](https://en.wikipedia.org/wiki/Read%E2%80%93eval%E2%80%93print_loop)\n",
    "* Documentation to share with your co-workers (and your future self)\n",
    "  * GitHub will [render Jupyter notebooks](https://help.github.com/en/github/managing-files-in-a-repository/working-with-jupyter-notebook-files-on-github) as static HTML\n",
    "* Use powerful Python libraries\n",
    "  * [Requests](https://requests.readthedocs.io/en/master/) library for HTTP/1.1 requests\n",
    "  * [Pandas](https://pandas.pydata.org/) library for data analysis"
   ]
  },
  {
   "cell_type": "code",
   "execution_count": 17,
   "metadata": {},
   "outputs": [],
   "source": [
    "import requests, os\n",
    "import pandas as pd\n",
    "from pandas.io.json import json_normalize"
   ]
  },
  {
   "cell_type": "code",
   "execution_count": 57,
   "metadata": {},
   "outputs": [
    {
     "data": {
      "text/plain": "(5, 16)"
     },
     "execution_count": 57,
     "metadata": {},
     "output_type": "execute_result"
    }
   ],
   "source": [
    "def mapbox(url):\n",
    "    params = {'access_token': os.environ['MAPBOX_TOKEN']}\n",
    "    r = requests.request('GET', 'https://api.mapbox.com' + url, params=params)\n",
    "    return r.json()\n",
    "\n",
    "res = mapbox('/geocoding/v5/mapbox.places/13.4034,52.542.json')\n",
    "df = json_normalize(res['features'])\n",
    "df.shape"
   ]
  },
  {
   "cell_type": "code",
   "execution_count": 58,
   "metadata": {},
   "outputs": [
    {
     "data": {
      "text/plain": "Index(['id', 'type', 'place_type', 'relevance', 'text', 'place_name', 'center',\n       'context', 'properties.landmark', 'properties.address',\n       'properties.category', 'geometry.coordinates', 'geometry.type', 'bbox',\n       'properties.short_code', 'properties.wikidata'],\n      dtype='object')"
     },
     "execution_count": 58,
     "metadata": {},
     "output_type": "execute_result"
    }
   ],
   "source": [
    "df.columns"
   ]
  },
  {
   "cell_type": "code",
   "execution_count": 59,
   "metadata": {},
   "outputs": [
    {
     "data": {
      "text/html": "<div>\n<style scoped>\n    .dataframe tbody tr th:only-of-type {\n        vertical-align: middle;\n    }\n\n    .dataframe tbody tr th {\n        vertical-align: top;\n    }\n\n    .dataframe thead th {\n        text-align: right;\n    }\n</style>\n<table border=\"1\" class=\"dataframe\">\n  <thead>\n    <tr style=\"text-align: right;\">\n      <th></th>\n      <th>place_name</th>\n      <th>place_type</th>\n      <th>properties.wikidata</th>\n    </tr>\n  </thead>\n  <tbody>\n    <tr>\n      <th>0</th>\n      <td>Basketballplatz Mauerpark, Bernauer Straße 51,...</td>\n      <td>[poi]</td>\n      <td>NaN</td>\n    </tr>\n    <tr>\n      <th>1</th>\n      <td>Prenzlauer Berg, 10437, Berlin, Germany</td>\n      <td>[locality]</td>\n      <td>NaN</td>\n    </tr>\n    <tr>\n      <th>2</th>\n      <td>10437, Berlin, Germany</td>\n      <td>[postcode]</td>\n      <td>NaN</td>\n    </tr>\n    <tr>\n      <th>3</th>\n      <td>Berlin, Germany</td>\n      <td>[region, place]</td>\n      <td>Q64</td>\n    </tr>\n    <tr>\n      <th>4</th>\n      <td>Germany</td>\n      <td>[country]</td>\n      <td>Q183</td>\n    </tr>\n  </tbody>\n</table>\n</div>",
      "text/plain": "                                          place_name       place_type  \\\n0  Basketballplatz Mauerpark, Bernauer Straße 51,...            [poi]   \n1            Prenzlauer Berg, 10437, Berlin, Germany       [locality]   \n2                             10437, Berlin, Germany       [postcode]   \n3                                    Berlin, Germany  [region, place]   \n4                                            Germany        [country]   \n\n  properties.wikidata  \n0                 NaN  \n1                 NaN  \n2                 NaN  \n3                 Q64  \n4                Q183  "
     },
     "execution_count": 59,
     "metadata": {},
     "output_type": "execute_result"
    }
   ],
   "source": [
    "df[['place_name', 'place_type', 'properties.wikidata']]"
   ]
  }
 ]
}