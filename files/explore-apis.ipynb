{
 "cells": [
  {
   "cell_type": "markdown",
   "metadata": {},
   "source": [
    "# Exploring APIs and data structures with Jupyter notebooks\n",
    "\n",
    "Recently a colleague shared a very useful technique for exploring Web APIs with me: [Jupyter notebooks](https://jupyter.org/).\n",
    "\n",
    "Previously I used to use Bash scripts and [curl](https://curl.haxx.se/) for tasks like this. Other colleagues preferred GUI tools like [Postman](https://www.postman.com/).\n",
    "\n",
    "Jupyter brings both worlds together:\n",
    "\n",
    "* You can write code using powerful Python libraries\n",
    "  * [Requests](https://requests.readthedocs.io/en/master/) library for HTTP requests\n",
    "  * [Pandas](https://pandas.pydata.org/) library for data analysis\n",
    "* You get documentation to share with your co-workers (and your future self)\n",
    "  * GitHub will [render Jupyter notebooks](https://help.github.com/en/github/managing-files-in-a-repository/working-with-jupyter-notebook-files-on-github) as static HTML\n",
    "  * You can include images, tables, and even interactive elements like maps\n",
    " \n",
    "![](./jupyter.png)\n",
    "  \n",
    "  \n",
    "## Setting up\n",
    "\n",
    "To get started, you need to install the Jupyter package first:\n",
    "\n",
    "> pip install jupyterlab\n",
    "\n",
    "Depending on when you read this, you might have to check if `pip` is the Python 3.x version of Python or still the [legacy Python 2.7](https://pythonclock.org/) version. On my machine I had to use `pip3`. If that's the case, the Python executable is most likely also named `python3`. \n",
    "\n",
    "Next you can start Jupyter:\n",
    "\n",
    "> python -m jupyterlab"
   ]
  },
  {
   "cell_type": "markdown",
   "metadata": {},
   "source": [
    "## Getting started with Requests\n",
    "\n",
    "The first library I want to introduce is [Requests](https://requests.readthedocs.io/en/master/), Python standard HTTP library."
   ]
  },
  {
   "cell_type": "code",
   "execution_count": 1,
   "metadata": {},
   "outputs": [],
   "source": [
    "import requests"
   ]
  },
  {
   "cell_type": "markdown",
   "metadata": {},
   "source": [
    "Let request something simple to try out requests:"
   ]
  },
  {
   "cell_type": "code",
   "execution_count": 2,
   "metadata": {},
   "outputs": [
    {
     "data": {
      "text/plain": [
       "200"
      ]
     },
     "execution_count": 2,
     "metadata": {},
     "output_type": "execute_result"
    }
   ],
   "source": [
    "response = requests.request('GET', 'http://httpbin.org/json')\n",
    "response.status_code"
   ]
  },
  {
   "cell_type": "markdown",
   "metadata": {},
   "source": [
    "To get a pretty output from the JSON data, a quick helper function comes in handy:"
   ]
  },
  {
   "cell_type": "code",
   "execution_count": 3,
   "metadata": {},
   "outputs": [],
   "source": [
    "import json\n",
    "def pp(item):\n",
    "    print(json.dumps(item, indent=2))"
   ]
  },
  {
   "cell_type": "code",
   "execution_count": 4,
   "metadata": {},
   "outputs": [
    {
     "name": "stdout",
     "output_type": "stream",
     "text": [
      "{\n",
      "  \"slideshow\": {\n",
      "    \"author\": \"Yours Truly\",\n",
      "    \"date\": \"date of publication\",\n",
      "    \"slides\": [\n",
      "      {\n",
      "        \"title\": \"Wake up to WonderWidgets!\",\n",
      "        \"type\": \"all\"\n",
      "      },\n",
      "      {\n",
      "        \"items\": [\n",
      "          \"Why <em>WonderWidgets</em> are great\",\n",
      "          \"Who <em>buys</em> WonderWidgets\"\n",
      "        ],\n",
      "        \"title\": \"Overview\",\n",
      "        \"type\": \"all\"\n",
      "      }\n",
      "    ],\n",
      "    \"title\": \"Sample Slide Show\"\n",
      "  }\n",
      "}\n"
     ]
    }
   ],
   "source": [
    "pp(response.json())"
   ]
  },
  {
   "cell_type": "markdown",
   "metadata": {},
   "source": [
    "[Headers](https://github.com/psf/requests/blob/fd13816d015c4c90ee65297fa996caea6a094ed1/requests/models.py#L445) is a `CaseInsensitiveDict` so you need to wrap it in a `dict()` to print it."
   ]
  },
  {
   "cell_type": "code",
   "execution_count": 5,
   "metadata": {},
   "outputs": [
    {
     "name": "stdout",
     "output_type": "stream",
     "text": [
      "{\n",
      "  \"Date\": \"Mon, 02 Mar 2020 20:33:42 GMT\",\n",
      "  \"Content-Type\": \"application/json\",\n",
      "  \"Content-Length\": \"429\",\n",
      "  \"Connection\": \"keep-alive\",\n",
      "  \"Server\": \"gunicorn/19.9.0\",\n",
      "  \"Access-Control-Allow-Origin\": \"*\",\n",
      "  \"Access-Control-Allow-Credentials\": \"true\"\n",
      "}\n"
     ]
    }
   ],
   "source": [
    "pp(dict(response.headers))"
   ]
  },
  {
   "cell_type": "markdown",
   "metadata": {},
   "source": [
    "You can still get the curl version of your request by using the [curlify](https://github.com/ofw/curlify) package:\n",
    "\n",
    "> pip install curlify"
   ]
  },
  {
   "cell_type": "code",
   "execution_count": 6,
   "metadata": {},
   "outputs": [
    {
     "name": "stdout",
     "output_type": "stream",
     "text": [
      "curl -X GET -H 'Accept: */*' -H 'Accept-Encoding: gzip, deflate' -H 'Connection: keep-alive' -H 'User-Agent: python-requests/2.22.0' http://httpbin.org/json\n"
     ]
    }
   ],
   "source": [
    "import curlify\n",
    "print(curlify.to_curl(response.request))"
   ]
  },
  {
   "cell_type": "markdown",
   "metadata": {},
   "source": [
    "## Using Pandas to explore JSON documents\n",
    "\n",
    "[Pandas](https://pandas.pydata.org/) is a data analysis and manipulation library that's popular among [Data Science](https://github.com/jakevdp/PythonDataScienceHandbook) people. It has a very useful JSON analysis method.\n",
    "\n",
    "To get started, let's first install the package (you might need to use `pip3`):\n",
    "\n",
    "> pip install pandas\n",
    "\n",
    "First let's look how it would work without pandas:"
   ]
  },
  {
   "cell_type": "code",
   "execution_count": 7,
   "metadata": {},
   "outputs": [
    {
     "data": {
      "text/plain": [
       "list"
      ]
     },
     "execution_count": 7,
     "metadata": {},
     "output_type": "execute_result"
    }
   ],
   "source": [
    "import requests\n",
    "\n",
    "r = requests.request('GET', 'https://api.github.com/users/janahrens/repos')\n",
    "json = r.json()\n",
    "json.__class__"
   ]
  },
  {
   "cell_type": "markdown",
   "metadata": {},
   "source": [
    "We now know that the call returns a JSON list. Let's examine what items this list has by looking at the first one."
   ]
  },
  {
   "cell_type": "code",
   "execution_count": 8,
   "metadata": {},
   "outputs": [
    {
     "data": {
      "text/plain": [
       "dict_keys(['id', 'node_id', 'name', 'full_name', 'private', 'owner', 'html_url', 'description', 'fork', 'url', 'forks_url', 'keys_url', 'collaborators_url', 'teams_url', 'hooks_url', 'issue_events_url', 'events_url', 'assignees_url', 'branches_url', 'tags_url', 'blobs_url', 'git_tags_url', 'git_refs_url', 'trees_url', 'statuses_url', 'languages_url', 'stargazers_url', 'contributors_url', 'subscribers_url', 'subscription_url', 'commits_url', 'git_commits_url', 'comments_url', 'issue_comment_url', 'contents_url', 'compare_url', 'merges_url', 'archive_url', 'downloads_url', 'issues_url', 'pulls_url', 'milestones_url', 'notifications_url', 'labels_url', 'releases_url', 'deployments_url', 'created_at', 'updated_at', 'pushed_at', 'git_url', 'ssh_url', 'clone_url', 'svn_url', 'homepage', 'size', 'stargazers_count', 'watchers_count', 'language', 'has_issues', 'has_projects', 'has_downloads', 'has_wiki', 'has_pages', 'forks_count', 'mirror_url', 'archived', 'disabled', 'open_issues_count', 'license', 'forks', 'open_issues', 'watchers', 'default_branch'])"
      ]
     },
     "execution_count": 8,
     "metadata": {},
     "output_type": "execute_result"
    }
   ],
   "source": [
    "json[0].keys()"
   ]
  },
  {
   "cell_type": "markdown",
   "metadata": {},
   "source": [
    "Now that we know what kinds of fields we have available, we can use Python to further explore the data. \n",
    "\n",
    "This process gets a lot easier with [Pandas](https://pandas.pydata.org/) and it's `json_normalize` function.\n",
    "With `json_normalize` the data gets parsed into a [DataFrame](https://pandas.pydata.org/pandas-docs/stable/reference/api/pandas.DataFrame.html), which is a core data structure for \"Two-dimensional, size-mutable, potentially heterogeneous tabular data\". In other words: It represents the data as a table."
   ]
  },
  {
   "cell_type": "code",
   "execution_count": 9,
   "metadata": {},
   "outputs": [
    {
     "data": {
      "text/plain": [
       "(30, 95)"
      ]
     },
     "execution_count": 9,
     "metadata": {},
     "output_type": "execute_result"
    }
   ],
   "source": [
    "from pandas import json_normalize\n",
    "df = json_normalize(r.json())\n",
    "df.shape"
   ]
  },
  {
   "cell_type": "markdown",
   "metadata": {},
   "source": [
    "The `.shape` method is a good first property to test for. It shows that our DataFrame/table has 30 rows and 95 columns. Let's see what those columns are:"
   ]
  },
  {
   "cell_type": "code",
   "execution_count": 10,
   "metadata": {},
   "outputs": [
    {
     "data": {
      "text/plain": [
       "Index(['id', 'node_id', 'name', 'full_name', 'private', 'html_url',\n",
       "       'description', 'fork', 'url', 'forks_url', 'keys_url',\n",
       "       'collaborators_url', 'teams_url', 'hooks_url', 'issue_events_url',\n",
       "       'events_url', 'assignees_url', 'branches_url', 'tags_url', 'blobs_url',\n",
       "       'git_tags_url', 'git_refs_url', 'trees_url', 'statuses_url',\n",
       "       'languages_url', 'stargazers_url', 'contributors_url',\n",
       "       'subscribers_url', 'subscription_url', 'commits_url', 'git_commits_url',\n",
       "       'comments_url', 'issue_comment_url', 'contents_url', 'compare_url',\n",
       "       'merges_url', 'archive_url', 'downloads_url', 'issues_url', 'pulls_url',\n",
       "       'milestones_url', 'notifications_url', 'labels_url', 'releases_url',\n",
       "       'deployments_url', 'created_at', 'updated_at', 'pushed_at', 'git_url',\n",
       "       'ssh_url', 'clone_url', 'svn_url', 'homepage', 'size',\n",
       "       'stargazers_count', 'watchers_count', 'language', 'has_issues',\n",
       "       'has_projects', 'has_downloads', 'has_wiki', 'has_pages', 'forks_count',\n",
       "       'mirror_url', 'archived', 'disabled', 'open_issues_count', 'license',\n",
       "       'forks', 'open_issues', 'watchers', 'default_branch', 'owner.login',\n",
       "       'owner.id', 'owner.node_id', 'owner.avatar_url', 'owner.gravatar_id',\n",
       "       'owner.url', 'owner.html_url', 'owner.followers_url',\n",
       "       'owner.following_url', 'owner.gists_url', 'owner.starred_url',\n",
       "       'owner.subscriptions_url', 'owner.organizations_url', 'owner.repos_url',\n",
       "       'owner.events_url', 'owner.received_events_url', 'owner.type',\n",
       "       'owner.site_admin', 'license.key', 'license.name', 'license.spdx_id',\n",
       "       'license.url', 'license.node_id'],\n",
       "      dtype='object')"
      ]
     },
     "execution_count": 10,
     "metadata": {},
     "output_type": "execute_result"
    }
   ],
   "source": [
    "df.columns"
   ]
  },
  {
   "cell_type": "markdown",
   "metadata": {},
   "source": [
    "The list of columns itself isn't a very good demonstration of Pandas analysis capabilities. It gets more useful if we use it's sorting and filtering capabilities.\n",
    "\n",
    "Let's find out what GitHub repositories have the most stars and only select some of the columns:"
   ]
  },
  {
   "cell_type": "code",
   "execution_count": 11,
   "metadata": {},
   "outputs": [
    {
     "data": {
      "text/html": [
       "<div>\n",
       "<style scoped>\n",
       "    .dataframe tbody tr th:only-of-type {\n",
       "        vertical-align: middle;\n",
       "    }\n",
       "\n",
       "    .dataframe tbody tr th {\n",
       "        vertical-align: top;\n",
       "    }\n",
       "\n",
       "    .dataframe thead th {\n",
       "        text-align: right;\n",
       "    }\n",
       "</style>\n",
       "<table border=\"1\" class=\"dataframe\">\n",
       "  <thead>\n",
       "    <tr style=\"text-align: right;\">\n",
       "      <th></th>\n",
       "      <th>name</th>\n",
       "      <th>created_at</th>\n",
       "      <th>size</th>\n",
       "      <th>language</th>\n",
       "      <th>stargazers_count</th>\n",
       "    </tr>\n",
       "  </thead>\n",
       "  <tbody>\n",
       "    <tr>\n",
       "      <th>24</th>\n",
       "      <td>threema-protocol-analysis</td>\n",
       "      <td>2014-03-16T14:38:56Z</td>\n",
       "      <td>311</td>\n",
       "      <td>TeX</td>\n",
       "      <td>17</td>\n",
       "    </tr>\n",
       "    <tr>\n",
       "      <th>11</th>\n",
       "      <td>ipconfig-http-server</td>\n",
       "      <td>2014-05-12T06:15:38Z</td>\n",
       "      <td>152</td>\n",
       "      <td>C</td>\n",
       "      <td>6</td>\n",
       "    </tr>\n",
       "    <tr>\n",
       "      <th>29</th>\n",
       "      <td>yesod-oauth-demo</td>\n",
       "      <td>2012-05-15T21:02:29Z</td>\n",
       "      <td>216</td>\n",
       "      <td>Haskell</td>\n",
       "      <td>5</td>\n",
       "    </tr>\n",
       "    <tr>\n",
       "      <th>27</th>\n",
       "      <td>xing-api-haskell</td>\n",
       "      <td>2013-01-28T07:28:41Z</td>\n",
       "      <td>508</td>\n",
       "      <td>Haskell</td>\n",
       "      <td>5</td>\n",
       "    </tr>\n",
       "    <tr>\n",
       "      <th>4</th>\n",
       "      <td>dotfiles</td>\n",
       "      <td>2011-09-05T09:39:29Z</td>\n",
       "      <td>2337</td>\n",
       "      <td>Shell</td>\n",
       "      <td>5</td>\n",
       "    </tr>\n",
       "  </tbody>\n",
       "</table>\n",
       "</div>"
      ],
      "text/plain": [
       "                         name            created_at  size language  \\\n",
       "24  threema-protocol-analysis  2014-03-16T14:38:56Z   311      TeX   \n",
       "11       ipconfig-http-server  2014-05-12T06:15:38Z   152        C   \n",
       "29           yesod-oauth-demo  2012-05-15T21:02:29Z   216  Haskell   \n",
       "27           xing-api-haskell  2013-01-28T07:28:41Z   508  Haskell   \n",
       "4                    dotfiles  2011-09-05T09:39:29Z  2337    Shell   \n",
       "\n",
       "    stargazers_count  \n",
       "24                17  \n",
       "11                 6  \n",
       "29                 5  \n",
       "27                 5  \n",
       "4                  5  "
      ]
     },
     "execution_count": 11,
     "metadata": {},
     "output_type": "execute_result"
    }
   ],
   "source": [
    "df.sort_values(by='stargazers_count', ascending=False).head()[['name', 'created_at', 'size', 'language', 'stargazers_count']]"
   ]
  },
  {
   "cell_type": "markdown",
   "metadata": {},
   "source": [
    "Pandas can do a lot more and it's definetely worth to take a look at the [10 minutes to pandas](https://pandas.pydata.org/pandas-docs/stable/getting_started/10min.html) guide."
   ]
  },
  {
   "cell_type": "markdown",
   "metadata": {},
   "source": [
    "## Bonus: Generating a blog post from a Jupyter notebook\n",
    "\n",
    "My blog gets written by feeding Markdown files [into Jekyll](https://help.github.com/en/github/working-with-github-pages/setting-up-a-github-pages-site-with-jekyll). Using [nbconvert](https://nbconvert.readthedocs.io/en/latest/) I was able to convert this notebook into a Markdown file. The only thing I had to add manually was the header for Jekyll. The rest of this post is directly from the notebook."
   ]
  },
  {
   "cell_type": "markdown",
   "metadata": {},
   "source": [
    "First install the nbconvert package\n",
    "> pip install nbconvert\n",
    "\n",
    "Then you can invoke nbconvert on this file:\n",
    "> python -m nbconvert files/explore-apis.ipynb --to markdown --stdout > _posts/2020-03-02-explore-apis.markdown"
   ]
  }
 ],
 "metadata": {
  "file_extension": ".py",
  "kernelspec": {
   "display_name": "Python 3.7.4 64-bit",
   "language": "python",
   "name": "python37464bitca1a4ad230f44382bb41d8250c5884c7"
  },
  "language_info": {
   "codemirror_mode": {
    "name": "ipython",
    "version": 3
   },
   "file_extension": ".py",
   "mimetype": "text/x-python",
   "name": "python",
   "nbconvert_exporter": "python",
   "pygments_lexer": "ipython3",
   "version": "3.7.4"
  },
  "mimetype": "text/x-python",
  "name": "python",
  "npconvert_exporter": "python",
  "pygments_lexer": "ipython3",
  "version": 3
 },
 "nbformat": 4,
 "nbformat_minor": 4
}
