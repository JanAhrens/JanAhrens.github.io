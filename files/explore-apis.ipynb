{
 "cells": [
  {
   "cell_type": "markdown",
   "metadata": {},
   "source": [
    "# Exploring APIs and data structures with Jupyter notebooks\n",
    "\n",
    "Recently a colleague shared a very useful technique for exploring Web APIs with me: [Jupyter notebooks](https://jupyter.org/).\n",
    "\n",
    "Previously I used to use Bash scripts and [curl](https://curl.haxx.se/) for tasks like this. Other colleagues preferred GUI tools like [Postman](https://www.postman.com/).\n",
    "\n",
    "Jupyter has some advantages:\n",
    "\n",
    "* You can use powerful Python libraries\n",
    "  * [Requests](https://requests.readthedocs.io/en/master/) library for HTTP requests\n",
    "  * [Pandas](https://pandas.pydata.org/) library for data analysis\n",
    "* You get documentation to share with your co-workers (and your future self)\n",
    "  * GitHub will [render Jupyter notebooks](https://help.github.com/en/github/managing-files-in-a-repository/working-with-jupyter-notebook-files-on-github) as static HTML\n",
    "  * You can include images\n",
    "  \n",
    "## Setting up\n",
    "\n",
    "To get started, you need to install the Jupyter package first:\n",
    "\n",
    "> pip install jupyterlab\n",
    "\n",
    "Depending on when you read this, you might have to check if `pip` is the Python 3.x version of Python or still the [legacy Python 2.7](https://pythonclock.org/) version. On my machine I had to use `pip3`. If that's the case, the Python executable is most likely also named `python3`. \n",
    "\n",
    "Next you can start Jupyter:\n",
    "\n",
    "> python -m jupyterlab"
   ]
  },
  {
   "cell_type": "markdown",
   "metadata": {},
   "source": [
    "## Getting started with Requests\n",
    "\n",
    "The first library I want to introduce is [Requests](https://requests.readthedocs.io/en/master/), Python standard HTTP library."
   ]
  },
  {
   "cell_type": "code",
   "execution_count": 1,
   "metadata": {},
   "outputs": [],
   "source": [
    "import requests"
   ]
  },
  {
   "cell_type": "markdown",
   "metadata": {},
   "source": [
    "Let request something simple to try out requests:"
   ]
  },
  {
   "cell_type": "code",
   "execution_count": 20,
   "metadata": {},
   "outputs": [
    {
     "data": {
      "text/plain": [
       "200"
      ]
     },
     "execution_count": 20,
     "metadata": {},
     "output_type": "execute_result"
    }
   ],
   "source": [
    "response = requests.request('GET', 'http://httpbin.org/json')\n",
    "response.status_code"
   ]
  },
  {
   "cell_type": "code",
   "execution_count": 21,
   "metadata": {},
   "outputs": [
    {
     "data": {
      "text/plain": [
       "{'Date': 'Mon, 24 Feb 2020 05:23:02 GMT', 'Content-Type': 'application/json', 'Content-Length': '429', 'Connection': 'keep-alive', 'Server': 'gunicorn/19.9.0', 'Access-Control-Allow-Origin': '*', 'Access-Control-Allow-Credentials': 'true'}"
      ]
     },
     "execution_count": 21,
     "metadata": {},
     "output_type": "execute_result"
    }
   ],
   "source": [
    "response.headers"
   ]
  },
  {
   "cell_type": "code",
   "execution_count": 28,
   "metadata": {},
   "outputs": [
    {
     "name": "stdout",
     "output_type": "stream",
     "text": [
      "{'slideshow': {'author': 'Yours Truly', 'date': 'date of publication', 'slides': [{'title': 'Wake up to WonderWidgets!', 'type': 'all'}, {'items': ['Why <em>WonderWidgets</em> are great', 'Who <em>buys</em> WonderWidgets'], 'title': 'Overview', 'type': 'all'}], 'title': 'Sample Slide Show'}}\n"
     ]
    }
   ],
   "source": [
    "print(response.json())"
   ]
  },
  {
   "cell_type": "markdown",
   "metadata": {},
   "source": [
    "The output can be made a little prettier using the [`json.dumps` function](https://docs.python.org/3/library/json.html):"
   ]
  },
  {
   "cell_type": "code",
   "execution_count": 30,
   "metadata": {},
   "outputs": [
    {
     "name": "stdout",
     "output_type": "stream",
     "text": [
      "{\n",
      "  \"slideshow\": {\n",
      "    \"author\": \"Yours Truly\",\n",
      "    \"date\": \"date of publication\",\n",
      "    \"slides\": [\n",
      "      {\n",
      "        \"title\": \"Wake up to WonderWidgets!\",\n",
      "        \"type\": \"all\"\n",
      "      },\n",
      "      {\n",
      "        \"items\": [\n",
      "          \"Why <em>WonderWidgets</em> are great\",\n",
      "          \"Who <em>buys</em> WonderWidgets\"\n",
      "        ],\n",
      "        \"title\": \"Overview\",\n",
      "        \"type\": \"all\"\n",
      "      }\n",
      "    ],\n",
      "    \"title\": \"Sample Slide Show\"\n",
      "  }\n",
      "}\n"
     ]
    }
   ],
   "source": [
    "import json\n",
    "print(json.dumps(response.json(), indent=2, sort_keys=True))"
   ]
  },
  {
   "cell_type": "markdown",
   "metadata": {},
   "source": [
    "You can still get the curl version of your request by using the [curlify](https://github.com/ofw/curlify) package:\n",
    "\n",
    "> pip install curlify"
   ]
  },
  {
   "cell_type": "code",
   "execution_count": 38,
   "metadata": {},
   "outputs": [
    {
     "name": "stdout",
     "output_type": "stream",
     "text": [
      "curl -X GET -H 'Accept: */*' -H 'Accept-Encoding: gzip, deflate' -H 'Connection: keep-alive' -H 'User-Agent: python-requests/2.22.0' http://httpbin.org/json\n"
     ]
    }
   ],
   "source": [
    "import curlify\n",
    "print(curlify.to_curl(response.request))"
   ]
  },
  {
   "cell_type": "markdown",
   "metadata": {},
   "source": [
    "## Using Pandas to explore JSON documents"
   ]
  },
  {
   "cell_type": "code",
   "execution_count": 40,
   "metadata": {},
   "outputs": [],
   "source": [
    "import pandas\n",
    "from pandas import json_normalize"
   ]
  },
  {
   "cell_type": "code",
   "execution_count": 41,
   "metadata": {},
   "outputs": [
    {
     "data": {
      "text/plain": [
       "(5, 16)"
      ]
     },
     "execution_count": 41,
     "metadata": {},
     "output_type": "execute_result"
    }
   ],
   "source": [
    "def mapbox(url):\n",
    "    params = {'access_token': os.environ['MAPBOX_TOKEN']}\n",
    "    r = requests.request('GET', 'https://api.mapbox.com' + url, params=params)\n",
    "    return r.json()\n",
    "\n",
    "coord = '13.4034,52.542' # Berlin\n",
    "\n",
    "res = mapbox('/geocoding/v5/mapbox.places/{}.json'.format(coord))\n",
    "df = json_normalize(res['features'])\n",
    "df.shape"
   ]
  },
  {
   "cell_type": "code",
   "execution_count": 8,
   "metadata": {},
   "outputs": [
    {
     "data": {
      "text/plain": [
       "Index(['id', 'type', 'place_type', 'relevance', 'text', 'place_name', 'center',\n",
       "       'context', 'properties.landmark', 'properties.address',\n",
       "       'properties.category', 'geometry.coordinates', 'geometry.type', 'bbox',\n",
       "       'properties.short_code', 'properties.wikidata'],\n",
       "      dtype='object')"
      ]
     },
     "execution_count": 8,
     "metadata": {},
     "output_type": "execute_result"
    }
   ],
   "source": [
    "df.columns"
   ]
  },
  {
   "cell_type": "code",
   "execution_count": 68,
   "metadata": {},
   "outputs": [
    {
     "data": {
      "text/html": [
       "<div>\n",
       "<style scoped>\n",
       "    .dataframe tbody tr th:only-of-type {\n",
       "        vertical-align: middle;\n",
       "    }\n",
       "\n",
       "    .dataframe tbody tr th {\n",
       "        vertical-align: top;\n",
       "    }\n",
       "\n",
       "    .dataframe thead th {\n",
       "        text-align: right;\n",
       "    }\n",
       "</style>\n",
       "<table border=\"1\" class=\"dataframe\">\n",
       "  <thead>\n",
       "    <tr style=\"text-align: right;\">\n",
       "      <th></th>\n",
       "      <th>place_name</th>\n",
       "      <th>place_type</th>\n",
       "      <th>properties.wikidata</th>\n",
       "    </tr>\n",
       "  </thead>\n",
       "  <tbody>\n",
       "    <tr>\n",
       "      <th>0</th>\n",
       "      <td>Basketballplatz Mauerpark, Bernauer Straße 51,...</td>\n",
       "      <td>[poi]</td>\n",
       "      <td>NaN</td>\n",
       "    </tr>\n",
       "    <tr>\n",
       "      <th>1</th>\n",
       "      <td>Prenzlauer Berg, 10437, Berlin, Germany</td>\n",
       "      <td>[locality]</td>\n",
       "      <td>NaN</td>\n",
       "    </tr>\n",
       "    <tr>\n",
       "      <th>2</th>\n",
       "      <td>10437, Berlin, Germany</td>\n",
       "      <td>[postcode]</td>\n",
       "      <td>NaN</td>\n",
       "    </tr>\n",
       "    <tr>\n",
       "      <th>3</th>\n",
       "      <td>Berlin, Germany</td>\n",
       "      <td>[region, place]</td>\n",
       "      <td>Q64</td>\n",
       "    </tr>\n",
       "    <tr>\n",
       "      <th>4</th>\n",
       "      <td>Germany</td>\n",
       "      <td>[country]</td>\n",
       "      <td>Q183</td>\n",
       "    </tr>\n",
       "  </tbody>\n",
       "</table>\n",
       "</div>"
      ],
      "text/plain": [
       "                                          place_name       place_type  \\\n",
       "0  Basketballplatz Mauerpark, Bernauer Straße 51,...            [poi]   \n",
       "1            Prenzlauer Berg, 10437, Berlin, Germany       [locality]   \n",
       "2                             10437, Berlin, Germany       [postcode]   \n",
       "3                                    Berlin, Germany  [region, place]   \n",
       "4                                            Germany        [country]   \n",
       "\n",
       "  properties.wikidata  \n",
       "0                 NaN  \n",
       "1                 NaN  \n",
       "2                 NaN  \n",
       "3                 Q64  \n",
       "4                Q183  "
      ]
     },
     "execution_count": 68,
     "metadata": {},
     "output_type": "execute_result"
    }
   ],
   "source": [
    "df[['place_name', 'place_type', 'properties.wikidata']]"
   ]
  },
  {
   "cell_type": "code",
   "execution_count": 42,
   "metadata": {},
   "outputs": [
    {
     "data": {
      "text/html": [
       "<div>\n",
       "<style scoped>\n",
       "    .dataframe tbody tr th:only-of-type {\n",
       "        vertical-align: middle;\n",
       "    }\n",
       "\n",
       "    .dataframe tbody tr th {\n",
       "        vertical-align: top;\n",
       "    }\n",
       "\n",
       "    .dataframe thead th {\n",
       "        text-align: right;\n",
       "    }\n",
       "</style>\n",
       "<table border=\"1\" class=\"dataframe\">\n",
       "  <thead>\n",
       "    <tr style=\"text-align: right;\">\n",
       "      <th></th>\n",
       "      <th>0</th>\n",
       "    </tr>\n",
       "  </thead>\n",
       "  <tbody>\n",
       "    <tr>\n",
       "      <th>pageid</th>\n",
       "      <td>190</td>\n",
       "    </tr>\n",
       "    <tr>\n",
       "      <th>ns</th>\n",
       "      <td>0</td>\n",
       "    </tr>\n",
       "    <tr>\n",
       "      <th>title</th>\n",
       "      <td>Q64</td>\n",
       "    </tr>\n",
       "    <tr>\n",
       "      <th>lastrevid</th>\n",
       "      <td>1121078619</td>\n",
       "    </tr>\n",
       "    <tr>\n",
       "      <th>modified</th>\n",
       "      <td>2020-02-22T17:04:18Z</td>\n",
       "    </tr>\n",
       "    <tr>\n",
       "      <th>...</th>\n",
       "      <td>...</td>\n",
       "    </tr>\n",
       "    <tr>\n",
       "      <th>sitelinks.zhwikivoyage.url</th>\n",
       "      <td>https://zh.wikivoyage.org/wiki/%E6%9F%8F%E6%9E%97</td>\n",
       "    </tr>\n",
       "    <tr>\n",
       "      <th>sitelinks.zuwiki.site</th>\n",
       "      <td>zuwiki</td>\n",
       "    </tr>\n",
       "    <tr>\n",
       "      <th>sitelinks.zuwiki.title</th>\n",
       "      <td>IBerlini</td>\n",
       "    </tr>\n",
       "    <tr>\n",
       "      <th>sitelinks.zuwiki.badges</th>\n",
       "      <td>[]</td>\n",
       "    </tr>\n",
       "    <tr>\n",
       "      <th>sitelinks.zuwiki.url</th>\n",
       "      <td>https://zu.wikipedia.org/wiki/IBerlini</td>\n",
       "    </tr>\n",
       "  </tbody>\n",
       "</table>\n",
       "<p>2093 rows × 1 columns</p>\n",
       "</div>"
      ],
      "text/plain": [
       "                                                                            0\n",
       "pageid                                                                    190\n",
       "ns                                                                          0\n",
       "title                                                                     Q64\n",
       "lastrevid                                                          1121078619\n",
       "modified                                                 2020-02-22T17:04:18Z\n",
       "...                                                                       ...\n",
       "sitelinks.zhwikivoyage.url  https://zh.wikivoyage.org/wiki/%E6%9F%8F%E6%9E%97\n",
       "sitelinks.zuwiki.site                                                  zuwiki\n",
       "sitelinks.zuwiki.title                                               IBerlini\n",
       "sitelinks.zuwiki.badges                                                    []\n",
       "sitelinks.zuwiki.url                   https://zu.wikipedia.org/wiki/IBerlini\n",
       "\n",
       "[2093 rows x 1 columns]"
      ]
     },
     "execution_count": 42,
     "metadata": {},
     "output_type": "execute_result"
    }
   ],
   "source": [
    "def wikidata(entry):\n",
    "    res = requests.request('GET', 'https://www.wikidata.org/wiki/Special:EntityData/{}.json'.format(entry))\n",
    "    return res.json()['entities'][entry]\n",
    "\n",
    "df = json_normalize(wikidata('Q64'))\n",
    "df.T"
   ]
  }
 ],
 "metadata": {
  "file_extension": ".py",
  "kernelspec": {
   "display_name": "Python 3.7.4 64-bit",
   "language": "python",
   "name": "python37464bitca1a4ad230f44382bb41d8250c5884c7"
  },
  "language_info": {
   "codemirror_mode": {
    "name": "ipython",
    "version": 3
   },
   "file_extension": ".py",
   "mimetype": "text/x-python",
   "name": "python",
   "nbconvert_exporter": "python",
   "pygments_lexer": "ipython3",
   "version": "3.7.4"
  },
  "mimetype": "text/x-python",
  "name": "python",
  "npconvert_exporter": "python",
  "pygments_lexer": "ipython3",
  "version": 3
 },
 "nbformat": 4,
 "nbformat_minor": 4
}
